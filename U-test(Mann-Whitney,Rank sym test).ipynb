{
 "cells": [
  {
   "cell_type": "code",
   "execution_count": null,
   "id": "b77bfc92-007a-4119-9a28-61a00e4b45de",
   "metadata": {},
   "outputs": [],
   "source": [
    "#To Perform U test"
   ]
  },
  {
   "cell_type": "code",
   "execution_count": 1,
   "id": "eab7b027-c187-44db-8e9f-bcf61137c778",
   "metadata": {},
   "outputs": [],
   "source": [
    "# Name : Yash J Hirudkar\n",
    "# class : 3rd year\n",
    "# Section : A\n",
    "# Roll No. : 31"
   ]
  },
  {
   "cell_type": "code",
   "execution_count": 2,
   "id": "243fcac2-c726-461d-9469-84c284a67608",
   "metadata": {},
   "outputs": [],
   "source": [
    "# Python program to implement Mann-Whitney U Test\n",
    "# Importing the required dataset\n",
    "from scipy.stats import mannwhitneyu"
   ]
  },
  {
   "cell_type": "code",
   "execution_count": 3,
   "id": "fb28eaf5-1f20-41ce-897a-91fa50640587",
   "metadata": {},
   "outputs": [],
   "source": [
    "# Creating the dataset\n",
    "data1 = [0.978, 2.792, 0.248, -0.820, -0.102, -1.203, 0.102, -1.392, -1.395, -1.928]\n",
    "data2 = [1.283, -0.284, -0.821, -0.792, -0.793, -0.294, 0.600, 1.294, -1.183, -0.284]"
   ]
  },
  {
   "cell_type": "code",
   "execution_count": 4,
   "id": "cb05a627-8b7a-4962-b82d-897cb5f321df",
   "metadata": {},
   "outputs": [],
   "source": [
    "# Creating the dataset\n",
    "data1 = [0.978, 2.792, 0.248, -0.820, -0.102, -1.203, 0.102, -1.392, -1.395, -1.928]\n",
    "data2 = [1.283, -0.284, -0.821, -0.792, -0.793, -0.294, 0.600, 1.294, -1.183, -0.284]"
   ]
  },
  {
   "cell_type": "code",
   "execution_count": 5,
   "id": "b6b05fc4-60df-43f3-9254-ee437bcf1e0e",
   "metadata": {},
   "outputs": [
    {
     "name": "stdout",
     "output_type": "stream",
     "text": [
      "P-value is:  0.520366020896531\n"
     ]
    }
   ],
   "source": [
    "# Implementing the test\n",
    "k_test, p_val = mannwhitneyu(data1, data2)\n",
    "print(\"P-value is: \", p_val)"
   ]
  },
  {
   "cell_type": "code",
   "execution_count": 6,
   "id": "4a38553f-b581-4679-8939-83722002df7d",
   "metadata": {},
   "outputs": [
    {
     "name": "stdout",
     "output_type": "stream",
     "text": [
      "We can accept the null hypothesis\n"
     ]
    }
   ],
   "source": [
    "# taking the threshold value as 0.05 or 5%\n",
    "if p_val < 0.05:\n",
    "    print(\" We can reject the null hypothesis\")\n",
    "else:\n",
    "    print(\"We can accept the null hypothesis\")"
   ]
  },
  {
   "cell_type": "code",
   "execution_count": null,
   "id": "7097acc2-957a-478d-8df5-9176e00ee177",
   "metadata": {},
   "outputs": [],
   "source": []
  }
 ],
 "metadata": {
  "kernelspec": {
   "display_name": "Python 3 (ipykernel)",
   "language": "python",
   "name": "python3"
  },
  "language_info": {
   "codemirror_mode": {
    "name": "ipython",
    "version": 3
   },
   "file_extension": ".py",
   "mimetype": "text/x-python",
   "name": "python",
   "nbconvert_exporter": "python",
   "pygments_lexer": "ipython3",
   "version": "3.11.7"
  }
 },
 "nbformat": 4,
 "nbformat_minor": 5
}
