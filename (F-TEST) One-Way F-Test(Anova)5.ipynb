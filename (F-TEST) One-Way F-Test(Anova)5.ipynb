{
 "cells": [
  {
   "cell_type": "code",
   "execution_count": 1,
   "id": "42f180b8-99ed-4b12-b8f1-cbd74aaee056",
   "metadata": {},
   "outputs": [],
   "source": [
    "# Aim : To perform hypothesis testing using ANOVA (F-TEST) One-Way F-Test(Anova)."
   ]
  },
  {
   "cell_type": "code",
   "execution_count": 2,
   "id": "b97f6b26-5c74-4aea-8f26-0f9dfe02fad7",
   "metadata": {},
   "outputs": [],
   "source": [
    "# Name : Yash J Hirudkar\n",
    "# class : 3rd year\n",
    "# Section : A\n",
    "# Roll No. : 31"
   ]
  },
  {
   "cell_type": "code",
   "execution_count": 3,
   "id": "66fe76db-28bc-49d9-b272-79699b0a052b",
   "metadata": {},
   "outputs": [],
   "source": [
    "ages=[10,20,35,50,28,40,55,18,16,55,30,25,43,18,30,28,14,24,16,17,32,35,26,27,65,18,43,23,21,20,19,70,80,81,82,83,84,85,86,87,89,88,90,91,92,93,94,95,96,97,98,99,100,74,79,68]"
   ]
  },
  {
   "cell_type": "code",
   "execution_count": 4,
   "id": "10a6579b-c418-4a6b-859a-07a6a68f0821",
   "metadata": {},
   "outputs": [
    {
     "data": {
      "text/plain": [
       "56"
      ]
     },
     "execution_count": 4,
     "metadata": {},
     "output_type": "execute_result"
    }
   ],
   "source": [
    "len(ages)"
   ]
  },
  {
   "cell_type": "code",
   "execution_count": 5,
   "id": "8783fb36-0541-4f04-aeb9-cf2c827bd3f0",
   "metadata": {},
   "outputs": [],
   "source": [
    "import numpy as np\n"
   ]
  },
  {
   "cell_type": "code",
   "execution_count": 6,
   "id": "417e1613-e36b-476b-bea4-0043995a61b1",
   "metadata": {},
   "outputs": [],
   "source": [
    "## Lets take sample\n",
    "\n",
    "sample_size=10\n",
    "age_sample=np.random.choice(ages,sample_size)"
   ]
  },
  {
   "cell_type": "code",
   "execution_count": 7,
   "id": "ce2213ca-7107-40db-a49c-de45b945cf1f",
   "metadata": {},
   "outputs": [],
   "source": [
    "# Python program to implement One-Way f-test\n",
    "# Importing the required libraries\n",
    "import scipy.stats\n",
    "import numpy as np"
   ]
  },
  {
   "cell_type": "code",
   "execution_count": 8,
   "id": "ba4daa7b-a24c-464f-a4e8-b91e84c1a236",
   "metadata": {},
   "outputs": [],
   "source": [
    "# Creating sample data\n",
    "data1 = [0.0842, 0.0368, 0.0847, 0.0935, 0.0376, 0.0963, 0.0684,\n",
    "0.0758, 0.0854, 0.0855]\n",
    "data2 = [0.0785, 0.0845, 0.0758, 0.0853, 0.0946, 0.0785, 0.0853,\n",
    "0.0685]\n",
    "data3 = [0.0864, 0.2522, 0.0894, 0.2724, 0.0853, 0.1367, 0.853]"
   ]
  },
  {
   "cell_type": "code",
   "execution_count": 9,
   "id": "e3c58f27-54aa-45b9-849b-5f43656b9d48",
   "metadata": {},
   "outputs": [
    {
     "name": "stdout",
     "output_type": "stream",
     "text": [
      "p-value is:  0.04043792126789144\n"
     ]
    }
   ],
   "source": [
    "# Performing the F-Test\n",
    "f_test, p_val = scipy.stats.f_oneway(data1, data2, data3)\n",
    "print(\"p-value is: \", p_val)\n"
   ]
  },
  {
   "cell_type": "code",
   "execution_count": 10,
   "id": "205f73be-4634-4179-915b-17411246c06d",
   "metadata": {},
   "outputs": [
    {
     "name": "stdout",
     "output_type": "stream",
     "text": [
      " We can reject the null hypothesis\n"
     ]
    }
   ],
   "source": [
    "# taking the threshold value as 0.05 or 5%\n",
    "if p_val < 0.05:\n",
    "    print(\" We can reject the null hypothesis\")\n",
    "else:\n",
    "    print(\"We can accept the null hypothesis\")"
   ]
  },
  {
   "cell_type": "code",
   "execution_count": 11,
   "id": "70eae86b-6f75-46b1-9164-b4af69e694d1",
   "metadata": {},
   "outputs": [],
   "source": [
    "variance1 = np.var(data1)"
   ]
  },
  {
   "cell_type": "code",
   "execution_count": 12,
   "id": "3583098a-0cc9-446a-8e7f-63f3ae369421",
   "metadata": {},
   "outputs": [
    {
     "name": "stdout",
     "output_type": "stream",
     "text": [
      "0.00040949560000000005\n"
     ]
    }
   ],
   "source": [
    "print(variance1)"
   ]
  },
  {
   "cell_type": "code",
   "execution_count": 13,
   "id": "2359e0c0-9d52-46cc-9dd7-d6b488923d00",
   "metadata": {},
   "outputs": [],
   "source": [
    "variance2 = np.var(data2)"
   ]
  },
  {
   "cell_type": "code",
   "execution_count": 14,
   "id": "cba9b455-a797-4cd0-a180-b34ef20f7f77",
   "metadata": {},
   "outputs": [
    {
     "name": "stdout",
     "output_type": "stream",
     "text": [
      "5.3606874999999995e-05\n"
     ]
    }
   ],
   "source": [
    "print(variance2)"
   ]
  },
  {
   "cell_type": "code",
   "execution_count": 15,
   "id": "f0cb3f83-9b9c-4946-aa6a-26d9c52e5d47",
   "metadata": {},
   "outputs": [],
   "source": [
    "variance3 = np.var(data3)"
   ]
  },
  {
   "cell_type": "code",
   "execution_count": 16,
   "id": "8a3f00a7-53d4-4e4c-952e-e7796253a1ae",
   "metadata": {},
   "outputs": [
    {
     "name": "stdout",
     "output_type": "stream",
     "text": [
      "0.06522053346938775\n"
     ]
    }
   ],
   "source": [
    "print(variance3)"
   ]
  },
  {
   "cell_type": "code",
   "execution_count": null,
   "id": "629fd7f0-9fc3-49ae-814f-42651675b8bb",
   "metadata": {},
   "outputs": [],
   "source": []
  }
 ],
 "metadata": {
  "kernelspec": {
   "display_name": "Python 3 (ipykernel)",
   "language": "python",
   "name": "python3"
  },
  "language_info": {
   "codemirror_mode": {
    "name": "ipython",
    "version": 3
   },
   "file_extension": ".py",
   "mimetype": "text/x-python",
   "name": "python",
   "nbconvert_exporter": "python",
   "pygments_lexer": "ipython3",
   "version": "3.11.7"
  }
 },
 "nbformat": 4,
 "nbformat_minor": 5
}
